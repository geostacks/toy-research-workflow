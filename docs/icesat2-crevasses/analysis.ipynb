{
 "cells": [
  {
   "cell_type": "markdown",
   "id": "honest-sodium",
   "metadata": {},
   "source": [
    "# Analyze the data\n",
    "\n",
    "Time to design the crevasse detection algorithm.\n",
    "\n",
    "## Eye-ball\n",
    "\n",
    "## Approach that mimics DDA-ice\n",
    "\n",
    "## Visualization"
   ]
  },
  {
   "cell_type": "code",
   "execution_count": null,
   "id": "prostate-influence",
   "metadata": {},
   "outputs": [],
   "source": []
  }
 ],
 "metadata": {
  "kernelspec": {
   "display_name": "Python [conda env:.conda-jme]",
   "language": "python",
   "name": "conda-env-.conda-jme-py"
  },
  "language_info": {
   "codemirror_mode": {
    "name": "ipython",
    "version": 3
   },
   "file_extension": ".py",
   "mimetype": "text/x-python",
   "name": "python",
   "nbconvert_exporter": "python",
   "pygments_lexer": "ipython3",
   "version": "3.8.10"
  }
 },
 "nbformat": 4,
 "nbformat_minor": 5
}
