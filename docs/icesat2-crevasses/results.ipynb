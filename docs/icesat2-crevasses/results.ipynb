{
 "cells": [
  {
   "cell_type": "markdown",
   "id": "2660dd64-cb8f-4eb6-bac6-c241ac9adcff",
   "metadata": {},
   "source": [
    "# Generate publication-ready results"
   ]
  },
  {
   "cell_type": "code",
   "execution_count": 2,
   "id": "limiting-rental",
   "metadata": {},
   "outputs": [],
   "source": [
    "import matplotlib\n",
    "\n",
    "# and some advanced plotting libs"
   ]
  },
  {
   "cell_type": "code",
   "execution_count": null,
   "id": "2b033820-f9cf-4901-b960-59b874833139",
   "metadata": {},
   "outputs": [],
   "source": [
    "# vis geo\n",
    "\n",
    "# vis seaborn"
   ]
  },
  {
   "cell_type": "code",
   "execution_count": null,
   "id": "2f706b8d-5228-4888-9ea9-a48fc73361f6",
   "metadata": {},
   "outputs": [],
   "source": [
    "import seaborn"
   ]
  },
  {
   "cell_type": "code",
   "execution_count": null,
   "id": "9da23211-fe38-4e71-882e-124e2ca655c9",
   "metadata": {},
   "outputs": [],
   "source": [
    "fig, ax3 = plt.subplots(1, 1, figsize=(7, 3))\n",
    "\n",
    "seaborn.kdeplot(x=x, y=y, ax=ax3)"
   ]
  },
  {
   "cell_type": "code",
   "execution_count": null,
   "id": "b06e270c-1563-4f62-b05b-eeb703ff056d",
   "metadata": {},
   "outputs": [],
   "source": [
    "from scipy.interpolate import UnivariateSpline\n",
    "\n",
    "xh = x[q == 4]\n",
    "yh = y[q == 4]"
   ]
  },
  {
   "cell_type": "code",
   "execution_count": null,
   "id": "c034f154-8bee-4482-b271-505577ac452a",
   "metadata": {},
   "outputs": [],
   "source": [
    "idx2 = np.argsort(xh)\n",
    "\n",
    "xhh = xh[idx2]\n",
    "yhh = yh[idx2]"
   ]
  },
  {
   "cell_type": "code",
   "execution_count": null,
   "id": "4f0c8120-1e35-42f5-9cc6-c3199442a144",
   "metadata": {},
   "outputs": [],
   "source": [
    "spl = UnivariateSpline(xhh, yhh, s=0)\n",
    "xs = np.linspace(2153000, 2154000, 501)\n",
    "ys = spl(xs)"
   ]
  },
  {
   "cell_type": "code",
   "execution_count": null,
   "id": "bd02f42d-ad2e-4fc6-a729-271998c162d6",
   "metadata": {},
   "outputs": [],
   "source": [
    "xyhh = np.vstack([xhh, yhh])\n",
    "zhh = gaussian_kde(xyhh, bw_method=0.02)(xyhh)\n",
    "thres = 0.0005\n",
    "\n",
    "fig, ax6 = plt.subplots(1, 1, figsize=(7, 3))\n",
    "\n",
    "pt_style = {'s': 5, 'edgecolor': None}\n",
    "ax6.scatter(xhh, yhh, c=zhh, **pt_style)\n",
    "ax6.plot(xhh[zhh > thres], yhh[zhh > thres], '.', color='xkcd:red', markersize=1)\n",
    "ax6.set_xlim(2153000, 2154000)\n",
    "ax6.set_ylim(320, 360)"
   ]
  },
  {
   "cell_type": "code",
   "execution_count": null,
   "id": "754d75f5-30a4-453b-a065-f5f3c1c51fd7",
   "metadata": {},
   "outputs": [],
   "source": [
    "from scipy.signal import find_peaks"
   ]
  },
  {
   "cell_type": "code",
   "execution_count": null,
   "id": "2a437b4f-a687-4854-8bd4-59e0246622e1",
   "metadata": {},
   "outputs": [],
   "source": [
    "peaks, properties = find_peaks(x, prominence=(None, 0.6))\n",
    "properties[\"prominences\"].max()\n",
    "0.5049999999999999\n",
    "plt.plot(x)\n",
    "plt.plot(peaks, x[peaks], \"x\")\n",
    "plt.show()"
   ]
  }
 ],
 "metadata": {
  "kernelspec": {
   "display_name": "Python [conda env:.conda-jme]",
   "language": "python",
   "name": "conda-env-.conda-jme-py"
  },
  "language_info": {
   "codemirror_mode": {
    "name": "ipython",
    "version": 3
   },
   "file_extension": ".py",
   "mimetype": "text/x-python",
   "name": "python",
   "nbconvert_exporter": "python",
   "pygments_lexer": "ipython3",
   "version": "3.8.10"
  }
 },
 "nbformat": 4,
 "nbformat_minor": 5
}
