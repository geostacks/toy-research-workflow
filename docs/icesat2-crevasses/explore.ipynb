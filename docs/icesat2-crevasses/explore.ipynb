{
 "cells": [
  {
   "cell_type": "markdown",
   "id": "74cb4d04-1d7e-4cb1-a204-8510ea42fa23",
   "metadata": {},
   "source": [
    "# Explore the data\n",
    "\n",
    "We have downloaded the ICESat-2 data and saved them as `./download/processed_ATL03_20190805232841_05940403_004_01.h5`. Before diving into a specific analysis routine, let us see if we can have a general overview about the data using the Jupyter tools. For this stage, we want tools that provide quick access to data, preferably in many ways. And we also want to have some funcionaility to manually navigate to different part of the data. Jupyter's language-agnostic nature (i.e., not bonded to any specific programming languages) and support to interactive plotting widgets are designed to address these needs.\n",
    "\n",
    "```{admonition} Goals\n",
    ":class: tip\n",
    "Explore the data file, including its data structure, size, geospatial information, and so on.\n",
    "```\n",
    "\n",
    "## Steps\n",
    "\n",
    "### Check data structure\n",
    "\n",
    "Since the data are stored using the HDF5 format (as indicated by the file extension), we will need certain tools to read them. For example, we can use the `h5ls` command-line tool to have a quick look of the data structure. On Jupyter notebook, we can use the `!` character to use any command-line tool, and we can even pass the variable defined in the other cell (Python or Shell block) to the `h5ls` command."
   ]
  },
  {
   "cell_type": "code",
   "execution_count": 1,
   "id": "64d1d052-09f2-4cda-847f-b24a47df5fee",
   "metadata": {},
   "outputs": [],
   "source": [
    "filename = 'download/processed_ATL03_20190805232841_05940403_004_01.h5'"
   ]
  },
  {
   "cell_type": "markdown",
   "id": "d65081cf-28c6-4ff8-801f-cbd0e706142a",
   "metadata": {},
   "source": [
    "This string variable is now shared by the Python kernel and the shell environment. Note that we also use `grep` here because the full, nested data structure is very long, and we are only interested in the gt1l beam (which {cite}`Herzfeld2021` use in their study). "
   ]
  },
  {
   "cell_type": "code",
   "execution_count": 2,
   "id": "d4f03d4a-b731-48ef-8602-192be8878005",
   "metadata": {},
   "outputs": [
    {
     "name": "stdout",
     "output_type": "stream",
     "text": [
      "/gt1l/heights            Group\n",
      "/gt1l/heights/delta_time Dataset {312012/Inf}\n",
      "/gt1l/heights/dist_ph_across Dataset {312012/Inf}\n",
      "/gt1l/heights/dist_ph_along Dataset {312012/Inf}\n",
      "/gt1l/heights/h_ph       Dataset {312012/Inf}\n",
      "/gt1l/heights/lat_ph     Dataset {312012/Inf}\n",
      "/gt1l/heights/lon_ph     Dataset {312012/Inf}\n",
      "/gt1l/heights/pce_mframe_cnt Dataset {312012/Inf}\n",
      "/gt1l/heights/ph_id_channel Dataset {312012/Inf}\n",
      "/gt1l/heights/ph_id_count Dataset {312012/Inf}\n",
      "/gt1l/heights/ph_id_pulse Dataset {312012/Inf}\n",
      "/gt1l/heights/quality_ph Dataset {312012/Inf}\n",
      "/gt1l/heights/signal_conf_ph Dataset {312012/Inf, 5}\n",
      "/gt1l/geolocation/segment_dist_x Dataset {993/Inf}\n",
      "/gt1l/geolocation/segment_id Dataset {993/Inf}\n",
      "/gt1l/geolocation/segment_length Dataset {993/Inf}\n",
      "/gt1l/geolocation/segment_ph_cnt Dataset {993/Inf}\n"
     ]
    }
   ],
   "source": [
    "!h5ls -r $filename | grep ^/gt1l/heights\n",
    "!h5ls -r $filename | grep ^/gt1l/geolocation/segment"
   ]
  },
  {
   "cell_type": "markdown",
   "id": "5269d8cf-8966-4fec-ad2b-2ddb49ec6a36",
   "metadata": {},
   "source": [
    "### Load the data\n",
    "\n",
    "Now we use h5py (the python library for working with HDF5) and numpy to open the file and load the data we want."
   ]
  },
  {
   "cell_type": "code",
   "execution_count": 3,
   "id": "f379c2d4-ccc8-486d-b8f8-bdeb57fa141b",
   "metadata": {},
   "outputs": [],
   "source": [
    "import h5py\n",
    "import numpy as np"
   ]
  },
  {
   "cell_type": "code",
   "execution_count": 4,
   "id": "223ac86d-4dc6-4771-941d-780785a07b09",
   "metadata": {},
   "outputs": [],
   "source": [
    "with h5py.File(filename, 'r') as f:\n",
    "    lon_ph = f['gt1l']['heights']['lon_ph'][:]    # photon longitude (x)\n",
    "    lat_ph = f['gt1l']['heights']['lat_ph'][:]    # photon latitude  (y)\n",
    "    h_ph = f['gt1l']['heights']['h_ph'][:]        # photon elevation (z), in m\n",
    "    dist_ph = f['gt1l']['heights']['dist_ph_along'][:]            # photon horizontal distance from the beginning of the parent segment, in m\n",
    "    seg_length = f['gt1l']['geolocation']['segment_length'][:]    # horizontal of each segment, in m\n",
    "    seg_ph_count = f['gt1l']['geolocation']['segment_ph_cnt'][:]  # photon count in each segment, in m"
   ]
  },
  {
   "cell_type": "markdown",
   "id": "a1d6a751-92b5-4cea-905f-aad8340a8786",
   "metadata": {},
   "source": [
    "We can easily check the content and statistical information of each variable. For example:"
   ]
  },
  {
   "cell_type": "code",
   "execution_count": 5,
   "id": "e74c58f7-00a9-44fa-a544-27f92edecd40",
   "metadata": {},
   "outputs": [
    {
     "name": "stdout",
     "output_type": "stream",
     "text": [
      "312012\n",
      "312012\n"
     ]
    }
   ],
   "source": [
    "print(sum(seg_ph_count))    \n",
    "print(h_ph.shape[0])        # this should equal to the summation of the photon count."
   ]
  },
  {
   "cell_type": "markdown",
   "id": "4cca31fc-548c-4889-88ce-ce005aba1c38",
   "metadata": {},
   "source": [
    "### Prepare the data\n",
    "\n",
    "We often need to apply a few steps to the raw data before visualizing or analyzing them. Take these ICESat-2 data for example: if we want to plot the elevation along this track, we need the distance along the track as x values, which is not provided but can be calculated on our own. Using Jupyter Notebook, we can quickly design a Python function for this variable."
   ]
  },
  {
   "cell_type": "code",
   "execution_count": 6,
   "id": "precious-climb",
   "metadata": {},
   "outputs": [],
   "source": [
    "def make_dist_alongtrack(ph_count, seg_length, dist_ph):\n",
    "    '''\n",
    "    For detailed explanation of each variable and reasoning of the code, see ICESat-2 ATL03 documentation.\n",
    "    '''\n",
    "    repeat_num = np.cumsum(seg_length) - seg_length[0]\n",
    "    dist_alongtrack = np.repeat(repeat_num, ph_count)\n",
    "    dist_alongtrack += dist_ph\n",
    "    return dist_alongtrack"
   ]
  },
  {
   "cell_type": "code",
   "execution_count": 7,
   "id": "d7586bf0-728a-4898-87b4-5623d595ce56",
   "metadata": {},
   "outputs": [],
   "source": [
    "dist_alongtrack = make_dist_alongtrack(seg_ph_count, seg_length, dist_ph)   # distance along track for each photon, in m"
   ]
  },
  {
   "cell_type": "markdown",
   "id": "57c90bc3-7c2e-4297-a236-702908a2bf05",
   "metadata": {},
   "source": [
    "(sec:explore-plot)=\n",
    "### Plot the data\n",
    "\n",
    "Plotting the data is a great way to obtain a brief overview. Using interactive matplotlib figures powered by `ipympl`, we can speed up the exploration and quickly focus on the key elements of our data.\n",
    "\n",
    "Use the following Notebook command to activate interactive matplotlib environment:"
   ]
  },
  {
   "cell_type": "code",
   "execution_count": 8,
   "id": "a09b8994-a745-46a1-a60a-46675f10d0d3",
   "metadata": {},
   "outputs": [],
   "source": [
    "%matplotlib widget"
   ]
  },
  {
   "cell_type": "markdown",
   "id": "ae9f36bf-e451-4958-9ebc-f844fd18d63a",
   "metadata": {},
   "source": [
    "And then we import matplotlib."
   ]
  },
  {
   "cell_type": "code",
   "execution_count": 9,
   "id": "6de22c55-44a4-4c44-8501-63185b7ba1cb",
   "metadata": {},
   "outputs": [],
   "source": [
    "import matplotlib.pyplot as plt"
   ]
  },
  {
   "cell_type": "markdown",
   "id": "9850fa19-976c-4a11-927a-e6f6fc9d80cd",
   "metadata": {},
   "source": [
    "Now every single figure will come with a control panel, and we can use the buttons to pan, zoom, and save the figure. This is especially very helpful in our case because crevasses are small scale features and do not show everywhere along the track. We have to really zoom in to a certain area in order to see them."
   ]
  },
  {
   "cell_type": "code",
   "execution_count": 10,
   "id": "b9db6f6d-3177-44ff-bde0-99485155ee8f",
   "metadata": {},
   "outputs": [
    {
     "data": {
      "application/vnd.jupyter.widget-view+json": {
       "model_id": "cf1590a7c1284d64983de90783e37316",
       "version_major": 2,
       "version_minor": 0
      },
      "text/plain": [
       "Canvas(toolbar=Toolbar(toolitems=[('Home', 'Reset original view', 'home', 'home'), ('Back', 'Back to previous …"
      ]
     },
     "metadata": {},
     "output_type": "display_data"
    },
    {
     "data": {
      "text/plain": [
       "[<matplotlib.lines.Line2D at 0x7f80ec072fd0>]"
      ]
     },
     "execution_count": 10,
     "metadata": {},
     "output_type": "execute_result"
    }
   ],
   "source": [
    "fig, ax = plt.subplots(1, 1, figsize=(7, 3))\n",
    "ax.plot(dist_alongtrack, h_ph, '.', markersize=1)"
   ]
  },
  {
   "cell_type": "markdown",
   "id": "10db4f12-eba9-4332-913f-5e97b82fce1f",
   "metadata": {},
   "source": [
    "After a careful check up, we are able to locate the segment where [Figure 6a](sec:ideas-goals) of {cite}`Herzfeld2021` uses. (Note that the along-track distance readings are different because we are using a subset of the original data granule .)"
   ]
  },
  {
   "cell_type": "code",
   "execution_count": 11,
   "id": "45348984-6ad0-438e-b642-a70238f8908c",
   "metadata": {},
   "outputs": [
    {
     "data": {
      "application/vnd.jupyter.widget-view+json": {
       "model_id": "97fc4a0cc2d34e658f51b9c04ede788b",
       "version_major": 2,
       "version_minor": 0
      },
      "text/plain": [
       "Canvas(toolbar=Toolbar(toolitems=[('Home', 'Reset original view', 'home', 'home'), ('Back', 'Back to previous …"
      ]
     },
     "metadata": {},
     "output_type": "display_data"
    },
    {
     "data": {
      "text/plain": [
       "(320.0, 363.0)"
      ]
     },
     "execution_count": 11,
     "metadata": {},
     "output_type": "execute_result"
    }
   ],
   "source": [
    "fig, ax2 = plt.subplots(1, 1, figsize=(7, 3))\n",
    "ax2.plot(dist_alongtrack, h_ph, '.', markersize=1)\n",
    "ax2.set_xlim(15090, 16090)\n",
    "ax2.set_ylim(320, 363)"
   ]
  },
  {
   "cell_type": "markdown",
   "id": "82d279de-9d3a-4918-b19e-84a8d2ce2a65",
   "metadata": {},
   "source": [
    "```{admonition} Summary\n",
    "The Jupyter ecosystem provides multiple and interactive approaches to access and explore the data. \n",
    "```\n",
    "\n",
    "```{bibliography}\n",
    ":filter: docname in docnames\n",
    "```"
   ]
  }
 ],
 "metadata": {
  "kernelspec": {
   "display_name": "Python [conda env:.conda-jme]",
   "language": "python",
   "name": "conda-env-.conda-jme-py"
  },
  "language_info": {
   "codemirror_mode": {
    "name": "ipython",
    "version": 3
   },
   "file_extension": ".py",
   "mimetype": "text/x-python",
   "name": "python",
   "nbconvert_exporter": "python",
   "pygments_lexer": "ipython3",
   "version": "3.8.10"
  }
 },
 "nbformat": 4,
 "nbformat_minor": 5
}
