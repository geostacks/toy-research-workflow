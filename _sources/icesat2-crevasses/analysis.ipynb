{
 "cells": [
  {
   "cell_type": "markdown",
   "id": "honest-sodium",
   "metadata": {},
   "source": [
    "# Analyze the data\n",
    "\n",
    "Time to design the crevasse detection algorithm.\n",
    "\n",
    "## Eye-ball\n",
    "\n",
    "## Approach that mimics DDA-ice\n",
    "\n",
    "## Visualization"
   ]
  },
  {
   "cell_type": "code",
   "execution_count": 1,
   "id": "prostate-influence",
   "metadata": {},
   "outputs": [],
   "source": [
    "%matplotlib widget"
   ]
  },
  {
   "cell_type": "code",
   "execution_count": 53,
   "id": "e9a3704a-92be-48db-a4b8-f7f33c4e49a3",
   "metadata": {},
   "outputs": [],
   "source": [
    "import numpy as np\n",
    "import h5py\n",
    "import matplotlib.pyplot as plt\n",
    "from scipy.stats import gaussian_kde"
   ]
  },
  {
   "cell_type": "code",
   "execution_count": 3,
   "id": "8b6c1e70-785f-453f-9210-ca86d78b73f6",
   "metadata": {},
   "outputs": [],
   "source": [
    "filename = 'download/ATL03_20190805232841_05940403_004_01.h5'"
   ]
  },
  {
   "cell_type": "code",
   "execution_count": 37,
   "id": "a79b7287-ea1c-4c59-b864-714ca837bdcb",
   "metadata": {},
   "outputs": [],
   "source": [
    "with h5py.File(filename, 'r') as f:\n",
    "    h_ph = f['gt1l']['heights']['h_ph'][:]\n",
    "    lat_ph = f['gt1l']['heights']['lat_ph'][:]\n",
    "    lon_ph = f['gt1l']['heights']['lon_ph'][:]\n",
    "    dist_ph = f['gt1l']['heights']['dist_ph_along'][:]\n",
    "    geo_segment_length = f['gt1l']['geolocation']['segment_length'][:]\n",
    "    geo_segment_ph_count = f['gt1l']['geolocation']['segment_ph_cnt'][:]\n",
    "    quality_ph = f['gt1l']['heights']['signal_conf_ph'][:]"
   ]
  },
  {
   "cell_type": "code",
   "execution_count": 5,
   "id": "61869792-dc6d-4d24-93e9-8c6e28341b8b",
   "metadata": {},
   "outputs": [],
   "source": [
    "def make_dist(ph_count, seg_length, dist_ph):\n",
    "    repeat_num = np.cumsum(seg_length) - seg_length[0]\n",
    "    final_dist = np.repeat(repeat_num, ph_count)\n",
    "    final_dist += dist_ph\n",
    "    return final_dist"
   ]
  },
  {
   "cell_type": "code",
   "execution_count": 8,
   "id": "134e3100-fb44-4502-a210-7e2246f460cf",
   "metadata": {},
   "outputs": [],
   "source": [
    "fin_dist_ph = make_dist(geo_segment_ph_count, geo_segment_length, dist_ph)"
   ]
  },
  {
   "cell_type": "code",
   "execution_count": 45,
   "id": "aeb71ae1-b8fa-4736-bb96-9cef7fa3f2e3",
   "metadata": {},
   "outputs": [],
   "source": [
    "idx = np.logical_and(fin_dist_ph > 2153000, fin_dist_ph < 2154000)\n",
    "\n",
    "x = fin_dist_ph[idx]\n",
    "y = h_ph[idx]\n",
    "q = quality_ph[idx, 0]"
   ]
  },
  {
   "cell_type": "code",
   "execution_count": 46,
   "id": "9e7aa27d-131c-40c1-bff2-252e8564643d",
   "metadata": {},
   "outputs": [
    {
     "data": {
      "text/plain": [
       "array([0, 0, 4, ..., 4, 0, 0], dtype=int8)"
      ]
     },
     "execution_count": 46,
     "metadata": {},
     "output_type": "execute_result"
    }
   ],
   "source": [
    "q"
   ]
  },
  {
   "cell_type": "code",
   "execution_count": 52,
   "id": "757beeb4-47a5-4e35-b7ce-3bd4162a385a",
   "metadata": {},
   "outputs": [
    {
     "data": {
      "application/vnd.jupyter.widget-view+json": {
       "model_id": "b9ceeda8baeb4d8394e0a691b0b705ee",
       "version_major": 2,
       "version_minor": 0
      },
      "text/plain": [
       "Canvas(toolbar=Toolbar(toolitems=[('Home', 'Reset original view', 'home', 'home'), ('Back', 'Back to previous …"
      ]
     },
     "metadata": {},
     "output_type": "display_data"
    },
    {
     "data": {
      "text/plain": [
       "<matplotlib.legend.Legend at 0x7fa81f004dc0>"
      ]
     },
     "execution_count": 52,
     "metadata": {},
     "output_type": "execute_result"
    }
   ],
   "source": [
    "fig, ax = plt.subplots(1, 1, figsize=(7, 3))\n",
    "\n",
    "ax.plot(x[q == 0], y[q == 0], '.', markersize=1, label='noise')\n",
    "ax.plot(x[q == 2], y[q == 2], '.', markersize=1, label='low')\n",
    "ax.plot(x[q == 3], y[q == 3], '.', markersize=1, label='mid')\n",
    "ax.plot(x[q == 4], y[q == 4], '.', markersize=1, label='high')\n",
    "ax.set_xlim(2153000, 2154000)\n",
    "ax.set_ylim(320, 360)\n",
    "ax.legend()"
   ]
  },
  {
   "cell_type": "code",
   "execution_count": 112,
   "id": "cfae3f2c-74ec-495c-a895-6b247d36ceed",
   "metadata": {},
   "outputs": [],
   "source": []
  },
  {
   "cell_type": "code",
   "execution_count": 139,
   "id": "1ffe3eea-5c64-4fcc-9505-d164a4b38175",
   "metadata": {},
   "outputs": [
    {
     "data": {
      "application/vnd.jupyter.widget-view+json": {
       "model_id": "6f5a78dce7e64039931d9d70004ef52c",
       "version_major": 2,
       "version_minor": 0
      },
      "text/plain": [
       "Canvas(toolbar=Toolbar(toolitems=[('Home', 'Reset original view', 'home', 'home'), ('Back', 'Back to previous …"
      ]
     },
     "metadata": {},
     "output_type": "display_data"
    },
    {
     "data": {
      "text/plain": [
       "(320.0, 360.0)"
      ]
     },
     "execution_count": 139,
     "metadata": {},
     "output_type": "execute_result"
    }
   ],
   "source": [
    "xy = np.vstack([x, y])\n",
    "z = gaussian_kde(xy, bw_method=0.01)(xy)\n",
    "thres = 0.00004\n",
    "\n",
    "fig, ax2 = plt.subplots(1, 1, figsize=(7, 3))\n",
    "\n",
    "pt_style = {'s': 5, 'edgecolor': None}\n",
    "ax2.scatter(x, y, c=z, **pt_style)\n",
    "ax2.plot(x[z > thres], y[z > thres], '.', color='xkcd:red', markersize=1)\n",
    "ax2.set_xlim(2153000, 2154000)\n",
    "ax2.set_ylim(320, 360)"
   ]
  },
  {
   "cell_type": "code",
   "execution_count": 56,
   "id": "4bd6833d-5bcd-46ae-90c8-f1259ccaaffc",
   "metadata": {},
   "outputs": [],
   "source": [
    "import seaborn"
   ]
  },
  {
   "cell_type": "code",
   "execution_count": 63,
   "id": "13a61237-b1e6-4755-8561-9817a769deb6",
   "metadata": {},
   "outputs": [
    {
     "data": {
      "application/vnd.jupyter.widget-view+json": {
       "model_id": "0dfc9e7affe24681a7943c0c1f38ce82",
       "version_major": 2,
       "version_minor": 0
      },
      "text/plain": [
       "Canvas(toolbar=Toolbar(toolitems=[('Home', 'Reset original view', 'home', 'home'), ('Back', 'Back to previous …"
      ]
     },
     "metadata": {},
     "output_type": "display_data"
    },
    {
     "data": {
      "text/plain": [
       "<AxesSubplot:>"
      ]
     },
     "execution_count": 63,
     "metadata": {},
     "output_type": "execute_result"
    }
   ],
   "source": [
    "fig, ax3 = plt.subplots(1, 1, figsize=(7, 3))\n",
    "\n",
    "seaborn.kdeplot(x=x, y=y, ax=ax3)"
   ]
  },
  {
   "cell_type": "code",
   "execution_count": 66,
   "id": "40fe1450-57a5-4fc8-8eec-c47249422f01",
   "metadata": {},
   "outputs": [],
   "source": [
    "from scipy.interpolate import UnivariateSpline\n",
    "\n",
    "xh = x[q == 4]\n",
    "yh = y[q == 4]"
   ]
  },
  {
   "cell_type": "code",
   "execution_count": 69,
   "id": "3dfb1a86-db35-453b-9e7f-8968b865fda8",
   "metadata": {},
   "outputs": [],
   "source": [
    "idx2 = np.argsort(xh)\n",
    "\n",
    "xhh = xh[idx2]\n",
    "yhh = yh[idx2]"
   ]
  },
  {
   "cell_type": "code",
   "execution_count": 94,
   "id": "932eb931-5102-48ff-ae7a-605e3b538124",
   "metadata": {},
   "outputs": [
    {
     "ename": "ValueError",
     "evalue": "x must be strictly increasing if s = 0",
     "output_type": "error",
     "traceback": [
      "\u001b[0;31m---------------------------------------------------------------------------\u001b[0m",
      "\u001b[0;31mValueError\u001b[0m                                Traceback (most recent call last)",
      "\u001b[0;32m<ipython-input-94-1471a1451931>\u001b[0m in \u001b[0;36m<module>\u001b[0;34m\u001b[0m\n\u001b[0;32m----> 1\u001b[0;31m \u001b[0mspl\u001b[0m \u001b[0;34m=\u001b[0m \u001b[0mUnivariateSpline\u001b[0m\u001b[0;34m(\u001b[0m\u001b[0mxhh\u001b[0m\u001b[0;34m,\u001b[0m \u001b[0myhh\u001b[0m\u001b[0;34m,\u001b[0m \u001b[0ms\u001b[0m\u001b[0;34m=\u001b[0m\u001b[0;36m0\u001b[0m\u001b[0;34m)\u001b[0m\u001b[0;34m\u001b[0m\u001b[0;34m\u001b[0m\u001b[0m\n\u001b[0m\u001b[1;32m      2\u001b[0m \u001b[0mxs\u001b[0m \u001b[0;34m=\u001b[0m \u001b[0mnp\u001b[0m\u001b[0;34m.\u001b[0m\u001b[0mlinspace\u001b[0m\u001b[0;34m(\u001b[0m\u001b[0;36m2153000\u001b[0m\u001b[0;34m,\u001b[0m \u001b[0;36m2154000\u001b[0m\u001b[0;34m,\u001b[0m \u001b[0;36m501\u001b[0m\u001b[0;34m)\u001b[0m\u001b[0;34m\u001b[0m\u001b[0;34m\u001b[0m\u001b[0m\n\u001b[1;32m      3\u001b[0m \u001b[0mys\u001b[0m \u001b[0;34m=\u001b[0m \u001b[0mspl\u001b[0m\u001b[0;34m(\u001b[0m\u001b[0mxs\u001b[0m\u001b[0;34m)\u001b[0m\u001b[0;34m\u001b[0m\u001b[0;34m\u001b[0m\u001b[0m\n",
      "\u001b[0;32m~/.conda/envs/jme/lib/python3.8/site-packages/scipy/interpolate/fitpack2.py\u001b[0m in \u001b[0;36m__init__\u001b[0;34m(self, x, y, w, bbox, k, s, ext, check_finite)\u001b[0m\n\u001b[1;32m    196\u001b[0m                  ext=0, check_finite=False):\n\u001b[1;32m    197\u001b[0m \u001b[0;34m\u001b[0m\u001b[0m\n\u001b[0;32m--> 198\u001b[0;31m         x, y, w, bbox, self.ext = self.validate_input(x, y, w, bbox, k, s, ext,\n\u001b[0m\u001b[1;32m    199\u001b[0m                                                       check_finite)\n\u001b[1;32m    200\u001b[0m \u001b[0;34m\u001b[0m\u001b[0m\n",
      "\u001b[0;32m~/.conda/envs/jme/lib/python3.8/site-packages/scipy/interpolate/fitpack2.py\u001b[0m in \u001b[0;36mvalidate_input\u001b[0;34m(x, y, w, bbox, k, s, ext, check_finite)\u001b[0m\n\u001b[1;32m    224\u001b[0m         \u001b[0;32melse\u001b[0m\u001b[0;34m:\u001b[0m\u001b[0;34m\u001b[0m\u001b[0;34m\u001b[0m\u001b[0m\n\u001b[1;32m    225\u001b[0m             \u001b[0;32mif\u001b[0m \u001b[0;32mnot\u001b[0m \u001b[0mnp\u001b[0m\u001b[0;34m.\u001b[0m\u001b[0mall\u001b[0m\u001b[0;34m(\u001b[0m\u001b[0mdiff\u001b[0m\u001b[0;34m(\u001b[0m\u001b[0mx\u001b[0m\u001b[0;34m)\u001b[0m \u001b[0;34m>\u001b[0m \u001b[0;36m0.0\u001b[0m\u001b[0;34m)\u001b[0m\u001b[0;34m:\u001b[0m\u001b[0;34m\u001b[0m\u001b[0;34m\u001b[0m\u001b[0m\n\u001b[0;32m--> 226\u001b[0;31m                 \u001b[0;32mraise\u001b[0m \u001b[0mValueError\u001b[0m\u001b[0;34m(\u001b[0m\u001b[0;34m\"x must be strictly increasing if s = 0\"\u001b[0m\u001b[0;34m)\u001b[0m\u001b[0;34m\u001b[0m\u001b[0;34m\u001b[0m\u001b[0m\n\u001b[0m\u001b[1;32m    227\u001b[0m         \u001b[0;32mif\u001b[0m \u001b[0mx\u001b[0m\u001b[0;34m.\u001b[0m\u001b[0msize\u001b[0m \u001b[0;34m!=\u001b[0m \u001b[0my\u001b[0m\u001b[0;34m.\u001b[0m\u001b[0msize\u001b[0m\u001b[0;34m:\u001b[0m\u001b[0;34m\u001b[0m\u001b[0;34m\u001b[0m\u001b[0m\n\u001b[1;32m    228\u001b[0m             \u001b[0;32mraise\u001b[0m \u001b[0mValueError\u001b[0m\u001b[0;34m(\u001b[0m\u001b[0;34m\"x and y should have a same length\"\u001b[0m\u001b[0;34m)\u001b[0m\u001b[0;34m\u001b[0m\u001b[0;34m\u001b[0m\u001b[0m\n",
      "\u001b[0;31mValueError\u001b[0m: x must be strictly increasing if s = 0"
     ]
    }
   ],
   "source": [
    "spl = UnivariateSpline(xhh, yhh, s=0)\n",
    "xs = np.linspace(2153000, 2154000, 501)\n",
    "ys = spl(xs)"
   ]
  },
  {
   "cell_type": "code",
   "execution_count": 92,
   "id": "0b7adf8a-356e-4df8-82ec-c2b76bc7aed1",
   "metadata": {},
   "outputs": [
    {
     "data": {
      "text/plain": [
       "array([nan, nan, nan, nan, nan, nan, nan, nan, nan, nan, nan, nan, nan,\n",
       "       nan, nan, nan, nan, nan, nan, nan, nan, nan, nan, nan, nan, nan,\n",
       "       nan, nan, nan, nan, nan, nan, nan, nan, nan, nan, nan, nan, nan,\n",
       "       nan, nan, nan, nan, nan, nan, nan, nan, nan, nan, nan, nan, nan,\n",
       "       nan, nan, nan, nan, nan, nan, nan, nan, nan, nan, nan, nan, nan,\n",
       "       nan, nan, nan, nan, nan, nan, nan, nan, nan, nan, nan, nan, nan,\n",
       "       nan, nan, nan, nan, nan, nan, nan, nan, nan, nan, nan, nan, nan,\n",
       "       nan, nan, nan, nan, nan, nan, nan, nan, nan, nan, nan, nan, nan,\n",
       "       nan, nan, nan, nan, nan, nan, nan, nan, nan, nan, nan, nan, nan,\n",
       "       nan, nan, nan, nan, nan, nan, nan, nan, nan, nan, nan, nan, nan,\n",
       "       nan, nan, nan, nan, nan, nan, nan, nan, nan, nan, nan, nan, nan,\n",
       "       nan, nan, nan, nan, nan, nan, nan, nan, nan, nan, nan, nan, nan,\n",
       "       nan, nan, nan, nan, nan, nan, nan, nan, nan, nan, nan, nan, nan,\n",
       "       nan, nan, nan, nan, nan, nan, nan, nan, nan, nan, nan, nan, nan,\n",
       "       nan, nan, nan, nan, nan, nan, nan, nan, nan, nan, nan, nan, nan,\n",
       "       nan, nan, nan, nan, nan, nan, nan, nan, nan, nan, nan, nan, nan,\n",
       "       nan, nan, nan, nan, nan, nan, nan, nan, nan, nan, nan, nan, nan,\n",
       "       nan, nan, nan, nan, nan, nan, nan, nan, nan, nan, nan, nan, nan,\n",
       "       nan, nan, nan, nan, nan, nan, nan, nan, nan, nan, nan, nan, nan,\n",
       "       nan, nan, nan, nan, nan, nan, nan, nan, nan, nan, nan, nan, nan,\n",
       "       nan, nan, nan, nan, nan, nan, nan, nan, nan, nan, nan, nan, nan,\n",
       "       nan, nan, nan, nan, nan, nan, nan, nan, nan, nan, nan, nan, nan,\n",
       "       nan, nan, nan, nan, nan, nan, nan, nan, nan, nan, nan, nan, nan,\n",
       "       nan, nan, nan, nan, nan, nan, nan, nan, nan, nan, nan, nan, nan,\n",
       "       nan, nan, nan, nan, nan, nan, nan, nan, nan, nan, nan, nan, nan,\n",
       "       nan, nan, nan, nan, nan, nan, nan, nan, nan, nan, nan, nan, nan,\n",
       "       nan, nan, nan, nan, nan, nan, nan, nan, nan, nan, nan, nan, nan,\n",
       "       nan, nan, nan, nan, nan, nan, nan, nan, nan, nan, nan, nan, nan,\n",
       "       nan, nan, nan, nan, nan, nan, nan, nan, nan, nan, nan, nan, nan,\n",
       "       nan, nan, nan, nan, nan, nan, nan, nan, nan, nan, nan, nan, nan,\n",
       "       nan, nan, nan, nan, nan, nan, nan, nan, nan, nan, nan, nan, nan,\n",
       "       nan, nan, nan, nan, nan, nan, nan, nan, nan, nan, nan, nan, nan,\n",
       "       nan, nan, nan, nan, nan, nan, nan, nan, nan, nan, nan, nan, nan,\n",
       "       nan, nan, nan, nan, nan, nan, nan, nan, nan, nan, nan, nan, nan,\n",
       "       nan, nan, nan, nan, nan, nan, nan, nan, nan, nan, nan, nan, nan,\n",
       "       nan, nan, nan, nan, nan, nan, nan, nan, nan, nan, nan, nan, nan,\n",
       "       nan, nan, nan, nan, nan, nan, nan, nan, nan, nan, nan, nan, nan,\n",
       "       nan, nan, nan, nan, nan, nan, nan, nan, nan, nan, nan, nan, nan,\n",
       "       nan, nan, nan, nan, nan, nan, nan])"
      ]
     },
     "execution_count": 92,
     "metadata": {},
     "output_type": "execute_result"
    }
   ],
   "source": [
    "ys"
   ]
  },
  {
   "cell_type": "code",
   "execution_count": 93,
   "id": "d5feb388-57bf-4539-af13-9bf3fee366dc",
   "metadata": {},
   "outputs": [
    {
     "data": {
      "application/vnd.jupyter.widget-view+json": {
       "model_id": "aa315166cb7b493e9585f3ee03b979a8",
       "version_major": 2,
       "version_minor": 0
      },
      "text/plain": [
       "Canvas(toolbar=Toolbar(toolitems=[('Home', 'Reset original view', 'home', 'home'), ('Back', 'Back to previous …"
      ]
     },
     "metadata": {},
     "output_type": "display_data"
    },
    {
     "data": {
      "text/plain": [
       "<matplotlib.legend.Legend at 0x7fa817cec130>"
      ]
     },
     "execution_count": 93,
     "metadata": {},
     "output_type": "execute_result"
    }
   ],
   "source": [
    "fig, ax4 = plt.subplots(1, 1, figsize=(7, 3))\n",
    "\n",
    "ax4.plot(xhh, yhh, '.', markersize=1, label='high')\n",
    "# ax4.plot(xs, ys)\n",
    "ax4.set_xlim(2153000, 2154000)\n",
    "ax4.set_ylim(320, 360)\n",
    "ax4.legend()"
   ]
  },
  {
   "cell_type": "code",
   "execution_count": 107,
   "id": "35e0acbc-cc9a-4338-830d-1a69c29ec352",
   "metadata": {},
   "outputs": [
    {
     "data": {
      "application/vnd.jupyter.widget-view+json": {
       "model_id": "96c86fb49efb442b8be8ebb52c64b4d9",
       "version_major": 2,
       "version_minor": 0
      },
      "text/plain": [
       "Canvas(toolbar=Toolbar(toolitems=[('Home', 'Reset original view', 'home', 'home'), ('Back', 'Back to previous …"
      ]
     },
     "metadata": {},
     "output_type": "display_data"
    },
    {
     "data": {
      "text/plain": [
       "(320.0, 360.0)"
      ]
     },
     "execution_count": 107,
     "metadata": {},
     "output_type": "execute_result"
    }
   ],
   "source": [
    "fig, ax5 = plt.subplots(1, 1, figsize=(7, 3))\n",
    "\n",
    "seaborn.kdeplot(x=xhh, y=yhh, ax=ax5, bw_method=0.01, fill=True)\n",
    "ax5.plot(xhh, yhh, '.', markersize=1, color='xkcd:red')\n",
    "ax5.set_xlim(2153000, 2154000)\n",
    "ax5.set_ylim(320, 360)\n",
    "# ax5.legend()"
   ]
  },
  {
   "cell_type": "code",
   "execution_count": 137,
   "id": "b3101ace-d072-4a27-a522-2d744e0dc570",
   "metadata": {},
   "outputs": [
    {
     "data": {
      "application/vnd.jupyter.widget-view+json": {
       "model_id": "dba6b6176445405dbb11021199d1c0b6",
       "version_major": 2,
       "version_minor": 0
      },
      "text/plain": [
       "Canvas(toolbar=Toolbar(toolitems=[('Home', 'Reset original view', 'home', 'home'), ('Back', 'Back to previous …"
      ]
     },
     "metadata": {},
     "output_type": "display_data"
    },
    {
     "data": {
      "text/plain": [
       "(320.0, 360.0)"
      ]
     },
     "execution_count": 137,
     "metadata": {},
     "output_type": "execute_result"
    }
   ],
   "source": [
    "xyhh = np.vstack([xhh, yhh])\n",
    "zhh = gaussian_kde(xyhh, bw_method=0.02)(xyhh)\n",
    "thres = 0.0005\n",
    "\n",
    "fig, ax6 = plt.subplots(1, 1, figsize=(7, 3))\n",
    "\n",
    "pt_style = {'s': 5, 'edgecolor': None}\n",
    "ax6.scatter(xhh, yhh, c=zhh, **pt_style)\n",
    "ax6.plot(xhh[zhh > thres], yhh[zhh > thres], '.', color='xkcd:red', markersize=1)\n",
    "ax6.set_xlim(2153000, 2154000)\n",
    "ax6.set_ylim(320, 360)"
   ]
  },
  {
   "cell_type": "code",
   "execution_count": 124,
   "id": "37e613a2-f40e-4586-a68f-bfe59110adb7",
   "metadata": {},
   "outputs": [
    {
     "data": {
      "text/plain": [
       "8.068187841501603e-05"
      ]
     },
     "execution_count": 124,
     "metadata": {},
     "output_type": "execute_result"
    }
   ],
   "source": []
  },
  {
   "cell_type": "code",
   "execution_count": 79,
   "id": "99d4bfb7-7020-459f-bb7a-4ec6029425b4",
   "metadata": {},
   "outputs": [],
   "source": [
    "from scipy.signal import find_peaks"
   ]
  },
  {
   "cell_type": "code",
   "execution_count": null,
   "id": "08151347-85e8-4fdc-b70b-543c595b5f97",
   "metadata": {},
   "outputs": [],
   "source": [
    "peaks, properties = find_peaks(x, prominence=(None, 0.6))\n",
    "properties[\"prominences\"].max()\n",
    "0.5049999999999999\n",
    "plt.plot(x)\n",
    "plt.plot(peaks, x[peaks], \"x\")\n",
    "plt.show()"
   ]
  }
 ],
 "metadata": {
  "kernelspec": {
   "display_name": "Python [conda env:.conda-jme]",
   "language": "python",
   "name": "conda-env-.conda-jme-py"
  },
  "language_info": {
   "codemirror_mode": {
    "name": "ipython",
    "version": 3
   },
   "file_extension": ".py",
   "mimetype": "text/x-python",
   "name": "python",
   "nbconvert_exporter": "python",
   "pygments_lexer": "ipython3",
   "version": "3.8.10"
  }
 },
 "nbformat": 4,
 "nbformat_minor": 5
}
