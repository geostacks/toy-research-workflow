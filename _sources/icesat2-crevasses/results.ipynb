{
 "cells": [
  {
   "cell_type": "markdown",
   "id": "2660dd64-cb8f-4eb6-bac6-c241ac9adcff",
   "metadata": {},
   "source": [
    "# Generate publication-ready results"
   ]
  },
  {
   "cell_type": "code",
   "execution_count": 2,
   "id": "limiting-rental",
   "metadata": {},
   "outputs": [],
   "source": [
    "import matplotlib\n",
    "\n",
    "# and some advanced plotting libs"
   ]
  },
  {
   "cell_type": "code",
   "execution_count": null,
   "id": "2b033820-f9cf-4901-b960-59b874833139",
   "metadata": {},
   "outputs": [],
   "source": []
  }
 ],
 "metadata": {
  "kernelspec": {
   "display_name": "Python [conda env:.conda-jme]",
   "language": "python",
   "name": "conda-env-.conda-jme-py"
  },
  "language_info": {
   "codemirror_mode": {
    "name": "ipython",
    "version": 3
   },
   "file_extension": ".py",
   "mimetype": "text/x-python",
   "name": "python",
   "nbconvert_exporter": "python",
   "pygments_lexer": "ipython3",
   "version": "3.8.10"
  }
 },
 "nbformat": 4,
 "nbformat_minor": 5
}
